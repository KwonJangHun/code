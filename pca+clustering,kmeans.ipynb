{
 "cells": [
  {
   "cell_type": "code",
   "execution_count": 9,
   "id": "c188fff7-cd40-42e9-910b-a1557255566c",
   "metadata": {
    "tags": []
   },
   "outputs": [
    {
     "data": {
      "text/html": [
       "<div>\n",
       "<style scoped>\n",
       "    .dataframe tbody tr th:only-of-type {\n",
       "        vertical-align: middle;\n",
       "    }\n",
       "\n",
       "    .dataframe tbody tr th {\n",
       "        vertical-align: top;\n",
       "    }\n",
       "\n",
       "    .dataframe thead th {\n",
       "        text-align: right;\n",
       "    }\n",
       "</style>\n",
       "<table border=\"1\" class=\"dataframe\">\n",
       "  <thead>\n",
       "    <tr style=\"text-align: right;\">\n",
       "      <th></th>\n",
       "      <th>seoul_gu</th>\n",
       "      <th>dog</th>\n",
       "      <th>parking_lot</th>\n",
       "      <th>park_width_per_person</th>\n",
       "    </tr>\n",
       "  </thead>\n",
       "  <tbody>\n",
       "    <tr>\n",
       "      <th>0</th>\n",
       "      <td>강남구</td>\n",
       "      <td>27180</td>\n",
       "      <td>61</td>\n",
       "      <td>3.81</td>\n",
       "    </tr>\n",
       "    <tr>\n",
       "      <th>1</th>\n",
       "      <td>강동구</td>\n",
       "      <td>20295</td>\n",
       "      <td>23</td>\n",
       "      <td>2.80</td>\n",
       "    </tr>\n",
       "    <tr>\n",
       "      <th>2</th>\n",
       "      <td>강북구</td>\n",
       "      <td>15346</td>\n",
       "      <td>36</td>\n",
       "      <td>5.93</td>\n",
       "    </tr>\n",
       "    <tr>\n",
       "      <th>3</th>\n",
       "      <td>강서구</td>\n",
       "      <td>26362</td>\n",
       "      <td>45</td>\n",
       "      <td>3.82</td>\n",
       "    </tr>\n",
       "    <tr>\n",
       "      <th>4</th>\n",
       "      <td>관악구</td>\n",
       "      <td>21199</td>\n",
       "      <td>20</td>\n",
       "      <td>3.59</td>\n",
       "    </tr>\n",
       "    <tr>\n",
       "      <th>5</th>\n",
       "      <td>광진구</td>\n",
       "      <td>16567</td>\n",
       "      <td>26</td>\n",
       "      <td>2.33</td>\n",
       "    </tr>\n",
       "    <tr>\n",
       "      <th>6</th>\n",
       "      <td>구로구</td>\n",
       "      <td>15279</td>\n",
       "      <td>26</td>\n",
       "      <td>2.62</td>\n",
       "    </tr>\n",
       "    <tr>\n",
       "      <th>7</th>\n",
       "      <td>금천구</td>\n",
       "      <td>9982</td>\n",
       "      <td>42</td>\n",
       "      <td>1.35</td>\n",
       "    </tr>\n",
       "    <tr>\n",
       "      <th>8</th>\n",
       "      <td>노원구</td>\n",
       "      <td>22590</td>\n",
       "      <td>26</td>\n",
       "      <td>2.38</td>\n",
       "    </tr>\n",
       "    <tr>\n",
       "      <th>9</th>\n",
       "      <td>도봉구</td>\n",
       "      <td>16729</td>\n",
       "      <td>16</td>\n",
       "      <td>2.31</td>\n",
       "    </tr>\n",
       "    <tr>\n",
       "      <th>10</th>\n",
       "      <td>동대문구</td>\n",
       "      <td>15486</td>\n",
       "      <td>36</td>\n",
       "      <td>2.10</td>\n",
       "    </tr>\n",
       "    <tr>\n",
       "      <th>11</th>\n",
       "      <td>동작구</td>\n",
       "      <td>15286</td>\n",
       "      <td>23</td>\n",
       "      <td>4.92</td>\n",
       "    </tr>\n",
       "    <tr>\n",
       "      <th>12</th>\n",
       "      <td>마포구</td>\n",
       "      <td>18445</td>\n",
       "      <td>35</td>\n",
       "      <td>7.30</td>\n",
       "    </tr>\n",
       "    <tr>\n",
       "      <th>13</th>\n",
       "      <td>서대문구</td>\n",
       "      <td>14605</td>\n",
       "      <td>8</td>\n",
       "      <td>3.08</td>\n",
       "    </tr>\n",
       "    <tr>\n",
       "      <th>14</th>\n",
       "      <td>서초구</td>\n",
       "      <td>19186</td>\n",
       "      <td>33</td>\n",
       "      <td>2.38</td>\n",
       "    </tr>\n",
       "    <tr>\n",
       "      <th>15</th>\n",
       "      <td>성동구</td>\n",
       "      <td>13568</td>\n",
       "      <td>50</td>\n",
       "      <td>3.25</td>\n",
       "    </tr>\n",
       "    <tr>\n",
       "      <th>16</th>\n",
       "      <td>성북구</td>\n",
       "      <td>19535</td>\n",
       "      <td>13</td>\n",
       "      <td>3.38</td>\n",
       "    </tr>\n",
       "    <tr>\n",
       "      <th>17</th>\n",
       "      <td>송파구</td>\n",
       "      <td>27408</td>\n",
       "      <td>46</td>\n",
       "      <td>2.18</td>\n",
       "    </tr>\n",
       "    <tr>\n",
       "      <th>18</th>\n",
       "      <td>양천구</td>\n",
       "      <td>19113</td>\n",
       "      <td>59</td>\n",
       "      <td>3.10</td>\n",
       "    </tr>\n",
       "    <tr>\n",
       "      <th>19</th>\n",
       "      <td>영등포구</td>\n",
       "      <td>15054</td>\n",
       "      <td>87</td>\n",
       "      <td>1.28</td>\n",
       "    </tr>\n",
       "    <tr>\n",
       "      <th>20</th>\n",
       "      <td>용산구</td>\n",
       "      <td>14442</td>\n",
       "      <td>33</td>\n",
       "      <td>2.13</td>\n",
       "    </tr>\n",
       "    <tr>\n",
       "      <th>21</th>\n",
       "      <td>은평구</td>\n",
       "      <td>22219</td>\n",
       "      <td>14</td>\n",
       "      <td>4.05</td>\n",
       "    </tr>\n",
       "    <tr>\n",
       "      <th>22</th>\n",
       "      <td>종로구</td>\n",
       "      <td>7854</td>\n",
       "      <td>51</td>\n",
       "      <td>17.27</td>\n",
       "    </tr>\n",
       "    <tr>\n",
       "      <th>23</th>\n",
       "      <td>중구</td>\n",
       "      <td>6241</td>\n",
       "      <td>88</td>\n",
       "      <td>8.70</td>\n",
       "    </tr>\n",
       "    <tr>\n",
       "      <th>24</th>\n",
       "      <td>중랑구</td>\n",
       "      <td>18635</td>\n",
       "      <td>38</td>\n",
       "      <td>3.59</td>\n",
       "    </tr>\n",
       "  </tbody>\n",
       "</table>\n",
       "</div>"
      ],
      "text/plain": [
       "   seoul_gu    dog  parking_lot  park_width_per_person\n",
       "0       강남구  27180           61                   3.81\n",
       "1       강동구  20295           23                   2.80\n",
       "2       강북구  15346           36                   5.93\n",
       "3       강서구  26362           45                   3.82\n",
       "4       관악구  21199           20                   3.59\n",
       "5       광진구  16567           26                   2.33\n",
       "6       구로구  15279           26                   2.62\n",
       "7       금천구   9982           42                   1.35\n",
       "8       노원구  22590           26                   2.38\n",
       "9       도봉구  16729           16                   2.31\n",
       "10     동대문구  15486           36                   2.10\n",
       "11      동작구  15286           23                   4.92\n",
       "12      마포구  18445           35                   7.30\n",
       "13    서대문구   14605            8                   3.08\n",
       "14      서초구  19186           33                   2.38\n",
       "15      성동구  13568           50                   3.25\n",
       "16      성북구  19535           13                   3.38\n",
       "17      송파구  27408           46                   2.18\n",
       "18      양천구  19113           59                   3.10\n",
       "19     영등포구  15054           87                   1.28\n",
       "20      용산구  14442           33                   2.13\n",
       "21      은평구  22219           14                   4.05\n",
       "22      종로구   7854           51                  17.27\n",
       "23       중구   6241           88                   8.70\n",
       "24      중랑구  18635           38                   3.59"
      ]
     },
     "execution_count": 9,
     "metadata": {},
     "output_type": "execute_result"
    }
   ],
   "source": [
    "from sklearn.preprocessing import StandardScaler, RobustScaler\n",
    "import pandas as pd\n",
    "from sklearn import datasets\n",
    "from sklearn.cluster import KMeans\n",
    "from sklearn.decomposition import PCA\n",
    "import matplotlib.pyplot as plt\n",
    "import numpy as np\n",
    "from sklearn.metrics import silhouette_samples, silhouette_score\n",
    "import seaborn as sns\n",
    "data = pd.read_csv(\"sample_data.csv\",encoding='euc-kr')\n",
    "data"
   ]
  },
  {
   "cell_type": "code",
   "execution_count": 10,
   "id": "7de0abeb-4f5b-4bbc-a34a-11b3cc4b5bf2",
   "metadata": {
    "tags": []
   },
   "outputs": [
    {
     "data": {
      "text/html": [
       "<div>\n",
       "<style scoped>\n",
       "    .dataframe tbody tr th:only-of-type {\n",
       "        vertical-align: middle;\n",
       "    }\n",
       "\n",
       "    .dataframe tbody tr th {\n",
       "        vertical-align: top;\n",
       "    }\n",
       "\n",
       "    .dataframe thead th {\n",
       "        text-align: right;\n",
       "    }\n",
       "</style>\n",
       "<table border=\"1\" class=\"dataframe\">\n",
       "  <thead>\n",
       "    <tr style=\"text-align: right;\">\n",
       "      <th></th>\n",
       "      <th>dog</th>\n",
       "      <th>parking_lot</th>\n",
       "      <th>park_width_per_person</th>\n",
       "    </tr>\n",
       "  </thead>\n",
       "  <tbody>\n",
       "    <tr>\n",
       "      <th>0</th>\n",
       "      <td>27180</td>\n",
       "      <td>61</td>\n",
       "      <td>3.81</td>\n",
       "    </tr>\n",
       "    <tr>\n",
       "      <th>1</th>\n",
       "      <td>20295</td>\n",
       "      <td>23</td>\n",
       "      <td>2.80</td>\n",
       "    </tr>\n",
       "    <tr>\n",
       "      <th>2</th>\n",
       "      <td>15346</td>\n",
       "      <td>36</td>\n",
       "      <td>5.93</td>\n",
       "    </tr>\n",
       "    <tr>\n",
       "      <th>3</th>\n",
       "      <td>26362</td>\n",
       "      <td>45</td>\n",
       "      <td>3.82</td>\n",
       "    </tr>\n",
       "    <tr>\n",
       "      <th>4</th>\n",
       "      <td>21199</td>\n",
       "      <td>20</td>\n",
       "      <td>3.59</td>\n",
       "    </tr>\n",
       "  </tbody>\n",
       "</table>\n",
       "</div>"
      ],
      "text/plain": [
       "     dog  parking_lot  park_width_per_person\n",
       "0  27180           61                   3.81\n",
       "1  20295           23                   2.80\n",
       "2  15346           36                   5.93\n",
       "3  26362           45                   3.82\n",
       "4  21199           20                   3.59"
      ]
     },
     "execution_count": 10,
     "metadata": {},
     "output_type": "execute_result"
    }
   ],
   "source": [
    "# scaling 위해서서울시 구 이름 제외\n",
    "sample = data.iloc[:,1:5] \n",
    "sample.head()"
   ]
  },
  {
   "cell_type": "code",
   "execution_count": 11,
   "id": "99e7af55-971c-4a28-b081-376ea8abb4bf",
   "metadata": {},
   "outputs": [],
   "source": [
    "# standard scaling\n",
    "np_sample = sample.to_numpy()\n",
    "scaler = StandardScaler()\n",
    "scaler.fit(np_sample)\n",
    "scaled_np_sample = scaler.transform(np_sample)"
   ]
  },
  {
   "cell_type": "code",
   "execution_count": 12,
   "id": "1e3aa693-42b6-4f68-a3f7-d0543f9d04d3",
   "metadata": {
    "tags": []
   },
   "outputs": [
    {
     "name": "stderr",
     "output_type": "stream",
     "text": [
      "C:\\Users\\user\\anaconda3\\lib\\site-packages\\sklearn\\cluster\\_kmeans.py:881: UserWarning: KMeans is known to have a memory leak on Windows with MKL, when there are less chunks than available threads. You can avoid it by setting the environment variable OMP_NUM_THREADS=1.\n",
      "  warnings.warn(\n"
     ]
    },
    {
     "data": {
      "image/png": "[encoded data removed]",
      "text/plain": [
       "<Figure size 432x288 with 1 Axes>"
      ]
     },
     "metadata": {
      "needs_background": "light"
     },
     "output_type": "display_data"
    }
   ],
   "source": [
    "#엘보우 방법(k값 구하기)\n",
    "def elbow(X):\n",
    "    sse = []\n",
    "\n",
    "    for i in range(1,11):\n",
    "        km = KMeans(n_clusters=i,algorithm='auto', random_state=42)\n",
    "        km.fit(X)\n",
    "        sse.append(km.inertia_)\n",
    "\n",
    "    plt.plot(range(1,11), sse, marker='o')\n",
    "    plt.xlabel('K')\n",
    "    plt.ylabel('SSE')\n",
    "    plt.show()\n",
    "\n",
    "elbow(np_sample)"
   ]
  },
  {
   "cell_type": "code",
   "execution_count": 13,
   "id": "ee93be92-4c04-4250-9891-4db4dc874ad9",
   "metadata": {
    "tags": []
   },
   "outputs": [],
   "source": [
    "# kmeans clustering / n_cluster 가 k값\n",
    "model = KMeans(n_clusters=4)\n",
    "model.fit(scaled_np_sample)\n",
    "labels = model.predict(scaled_np_sample)"
   ]
  },
  {
   "cell_type": "code",
   "execution_count": 14,
   "id": "014286b1-1b8f-4d01-bad7-c09a91ea812e",
   "metadata": {},
   "outputs": [],
   "source": [
    "# 원본 데이터에 군집화 된 Clusters 열 추가\n",
    "data_with_clusters = data.copy()\n",
    "data_with_clusters['Clusters'] = labels"
   ]
  },
  {
   "cell_type": "code",
   "execution_count": 15,
   "id": "e43d5aaf-dce1-43ed-a501-e0a6e2a9afeb",
   "metadata": {
    "tags": []
   },
   "outputs": [],
   "source": [
    "data_with_clusters.head()\n",
    "data_with_clusters.to_csv(\"data_kmean_result.csv\",encoding='euc-kr')"
   ]
  },
  {
   "cell_type": "code",
   "execution_count": 16,
   "id": "05e29c21-4b0d-4768-a723-f737da649a33",
   "metadata": {
    "tags": []
   },
   "outputs": [],
   "source": [
    "#scaling한 data np 형태에서 dataframe 형태로 변환\n",
    "df_scaled_sample = pd.DataFrame(scaled_np_sample)\n",
    "df_scaled_sample.to_csv(\"df_scaled_sample.csv\",encoding='euc-kr')\n"
   ]
  },
  {
   "cell_type": "code",
   "execution_count": 17,
   "id": "90401e4b-c300-43ac-a24c-90c84fae117b",
   "metadata": {
    "tags": []
   },
   "outputs": [
    {
     "name": "stdout",
     "output_type": "stream",
     "text": [
      "0.38121766625647896\n",
      "Clusters\n",
      "0    0.145819\n",
      "1    0.417794\n",
      "2    0.136490\n",
      "3    0.669382\n",
      "Name: silhoutte_coeff, dtype: float64\n"
     ]
    }
   ],
   "source": [
    "#실루엣 검중\n",
    "score_samples = silhouette_samples(df_scaled_sample, data_with_clusters['Clusters'])\n",
    "data_with_clusters['silhoutte_coeff'] = score_samples\n",
    "average_score = silhouette_score(df_scaled_sample, data_with_clusters['Clusters'])\n",
    "print(average_score)\n",
    "print(data_with_clusters.groupby('Clusters')['silhoutte_coeff'].mean())\n"
   ]
  },
  {
   "cell_type": "code",
   "execution_count": 18,
   "id": "19e581cc-7ab1-44c0-8f87-17e79aaa36ac",
   "metadata": {
    "tags": []
   },
   "outputs": [
    {
     "data": {
      "text/plain": [
       "array([[2.7180e+04, 6.1000e+01, 3.8100e+00],\n",
       "       [2.0295e+04, 2.3000e+01, 2.8000e+00],\n",
       "       [1.5346e+04, 3.6000e+01, 5.9300e+00],\n",
       "       [2.6362e+04, 4.5000e+01, 3.8200e+00],\n",
       "       [2.1199e+04, 2.0000e+01, 3.5900e+00],\n",
       "       [1.6567e+04, 2.6000e+01, 2.3300e+00],\n",
       "       [1.5279e+04, 2.6000e+01, 2.6200e+00],\n",
       "       [9.9820e+03, 4.2000e+01, 1.3500e+00],\n",
       "       [2.2590e+04, 2.6000e+01, 2.3800e+00],\n",
       "       [1.6729e+04, 1.6000e+01, 2.3100e+00],\n",
       "       [1.5486e+04, 3.6000e+01, 2.1000e+00],\n",
       "       [1.5286e+04, 2.3000e+01, 4.9200e+00],\n",
       "       [1.8445e+04, 3.5000e+01, 7.3000e+00],\n",
       "       [1.4605e+04, 8.0000e+00, 3.0800e+00],\n",
       "       [1.9186e+04, 3.3000e+01, 2.3800e+00],\n",
       "       [1.3568e+04, 5.0000e+01, 3.2500e+00],\n",
       "       [1.9535e+04, 1.3000e+01, 3.3800e+00],\n",
       "       [2.7408e+04, 4.6000e+01, 2.1800e+00],\n",
       "       [1.9113e+04, 5.9000e+01, 3.1000e+00],\n",
       "       [1.5054e+04, 8.7000e+01, 1.2800e+00],\n",
       "       [1.4442e+04, 3.3000e+01, 2.1300e+00],\n",
       "       [2.2219e+04, 1.4000e+01, 4.0500e+00],\n",
       "       [7.8540e+03, 5.1000e+01, 1.7270e+01],\n",
       "       [6.2410e+03, 8.8000e+01, 8.7000e+00],\n",
       "       [1.8635e+04, 3.8000e+01, 3.5900e+00]])"
      ]
     },
     "execution_count": 18,
     "metadata": {},
     "output_type": "execute_result"
    }
   ],
   "source": [
    "#원본 데이터(dataframe)에서 서울시 구 제외하고 dataframe을 array 형태로 변경\n",
    "sample2 = data.drop([\"seoul_gu\"],axis=1)\n",
    "np_sample2 = sample2.to_numpy()\n",
    "np_sample2"
   ]
  },
  {
   "cell_type": "code",
   "execution_count": 19,
   "id": "8de42878-cdf8-478b-8dc6-9668e23b7f89",
   "metadata": {
    "tags": []
   },
   "outputs": [
    {
     "name": "stdout",
     "output_type": "stream",
     "text": [
      "축소된 데이터 형태: (25, 2)\n",
      "원본 데이터 형태: (25, 3)\n"
     ]
    }
   ],
   "source": [
    "#pca 수행\n",
    "pca = PCA(n_components=2)\n",
    "pca.fit(scaled_np_sample)\n",
    "pca_sample = pca.transform(scaled_np_sample)\n",
    "print(\"축소된 데이터 형태: {}\".format(str(pca_sample.shape)))\n",
    "print(\"원본 데이터 형태: {}\".format(str(scaled_np_sample.shape)))\n"
   ]
  },
  {
   "cell_type": "code",
   "execution_count": 20,
   "id": "6daa4c31-509b-4b73-91c6-b05ac95ed66e",
   "metadata": {
    "tags": []
   },
   "outputs": [
    {
     "data": {
      "text/html": [
       "<div>\n",
       "<style scoped>\n",
       "    .dataframe tbody tr th:only-of-type {\n",
       "        vertical-align: middle;\n",
       "    }\n",
       "\n",
       "    .dataframe tbody tr th {\n",
       "        vertical-align: top;\n",
       "    }\n",
       "\n",
       "    .dataframe thead th {\n",
       "        text-align: right;\n",
       "    }\n",
       "</style>\n",
       "<table border=\"1\" class=\"dataframe\">\n",
       "  <thead>\n",
       "    <tr style=\"text-align: right;\">\n",
       "      <th></th>\n",
       "      <th>0</th>\n",
       "      <th>1</th>\n",
       "    </tr>\n",
       "  </thead>\n",
       "  <tbody>\n",
       "    <tr>\n",
       "      <th>0</th>\n",
       "      <td>-0.613557</td>\n",
       "      <td>1.635691</td>\n",
       "    </tr>\n",
       "    <tr>\n",
       "      <th>1</th>\n",
       "      <td>-0.899269</td>\n",
       "      <td>-0.323740</td>\n",
       "    </tr>\n",
       "    <tr>\n",
       "      <th>2</th>\n",
       "      <td>0.602559</td>\n",
       "      <td>-0.414156</td>\n",
       "    </tr>\n",
       "    <tr>\n",
       "      <th>3</th>\n",
       "      <td>-0.896776</td>\n",
       "      <td>0.889239</td>\n",
       "    </tr>\n",
       "    <tr>\n",
       "      <th>4</th>\n",
       "      <td>-0.925741</td>\n",
       "      <td>-0.487535</td>\n",
       "    </tr>\n",
       "    <tr>\n",
       "      <th>5</th>\n",
       "      <td>-0.475954</td>\n",
       "      <td>-0.368985</td>\n",
       "    </tr>\n",
       "    <tr>\n",
       "      <th>6</th>\n",
       "      <td>-0.267158</td>\n",
       "      <td>-0.480527</td>\n",
       "    </tr>\n",
       "    <tr>\n",
       "      <th>7</th>\n",
       "      <td>0.498488</td>\n",
       "      <td>0.032897</td>\n",
       "    </tr>\n",
       "    <tr>\n",
       "      <th>8</th>\n",
       "      <td>-1.180977</td>\n",
       "      <td>-0.005520</td>\n",
       "    </tr>\n",
       "    <tr>\n",
       "      <th>9</th>\n",
       "      <td>-0.737918</td>\n",
       "      <td>-0.791309</td>\n",
       "    </tr>\n",
       "    <tr>\n",
       "      <th>10</th>\n",
       "      <td>-0.153191</td>\n",
       "      <td>0.025137</td>\n",
       "    </tr>\n",
       "    <tr>\n",
       "      <th>11</th>\n",
       "      <td>0.104216</td>\n",
       "      <td>-0.869101</td>\n",
       "    </tr>\n",
       "    <tr>\n",
       "      <th>12</th>\n",
       "      <td>0.475344</td>\n",
       "      <td>-0.421767</td>\n",
       "    </tr>\n",
       "    <tr>\n",
       "      <th>13</th>\n",
       "      <td>-0.528396</td>\n",
       "      <td>-1.355661</td>\n",
       "    </tr>\n",
       "    <tr>\n",
       "      <th>14</th>\n",
       "      <td>-0.609851</td>\n",
       "      <td>0.090034</td>\n",
       "    </tr>\n",
       "    <tr>\n",
       "      <th>15</th>\n",
       "      <td>0.630763</td>\n",
       "      <td>0.386576</td>\n",
       "    </tr>\n",
       "    <tr>\n",
       "      <th>16</th>\n",
       "      <td>-0.936039</td>\n",
       "      <td>-0.870038</td>\n",
       "    </tr>\n",
       "    <tr>\n",
       "      <th>17</th>\n",
       "      <td>-1.313501</td>\n",
       "      <td>1.181219</td>\n",
       "    </tr>\n",
       "    <tr>\n",
       "      <th>18</th>\n",
       "      <td>0.158854</td>\n",
       "      <td>1.134292</td>\n",
       "    </tr>\n",
       "    <tr>\n",
       "      <th>19</th>\n",
       "      <td>0.958117</td>\n",
       "      <td>2.306832</td>\n",
       "    </tr>\n",
       "    <tr>\n",
       "      <th>20</th>\n",
       "      <td>-0.095188</td>\n",
       "      <td>-0.172563</td>\n",
       "    </tr>\n",
       "    <tr>\n",
       "      <th>21</th>\n",
       "      <td>-1.101326</td>\n",
       "      <td>-0.737460</td>\n",
       "    </tr>\n",
       "    <tr>\n",
       "      <th>22</th>\n",
       "      <td>4.038327</td>\n",
       "      <td>-1.496786</td>\n",
       "    </tr>\n",
       "    <tr>\n",
       "      <th>23</th>\n",
       "      <td>3.459690</td>\n",
       "      <td>0.975786</td>\n",
       "    </tr>\n",
       "    <tr>\n",
       "      <th>24</th>\n",
       "      <td>-0.191516</td>\n",
       "      <td>0.137445</td>\n",
       "    </tr>\n",
       "  </tbody>\n",
       "</table>\n",
       "</div>"
      ],
      "text/plain": [
       "           0         1\n",
       "0  -0.613557  1.635691\n",
       "1  -0.899269 -0.323740\n",
       "2   0.602559 -0.414156\n",
       "3  -0.896776  0.889239\n",
       "4  -0.925741 -0.487535\n",
       "5  -0.475954 -0.368985\n",
       "6  -0.267158 -0.480527\n",
       "7   0.498488  0.032897\n",
       "8  -1.180977 -0.005520\n",
       "9  -0.737918 -0.791309\n",
       "10 -0.153191  0.025137\n",
       "11  0.104216 -0.869101\n",
       "12  0.475344 -0.421767\n",
       "13 -0.528396 -1.355661\n",
       "14 -0.609851  0.090034\n",
       "15  0.630763  0.386576\n",
       "16 -0.936039 -0.870038\n",
       "17 -1.313501  1.181219\n",
       "18  0.158854  1.134292\n",
       "19  0.958117  2.306832\n",
       "20 -0.095188 -0.172563\n",
       "21 -1.101326 -0.737460\n",
       "22  4.038327 -1.496786\n",
       "23  3.459690  0.975786\n",
       "24 -0.191516  0.137445"
      ]
     },
     "execution_count": 20,
     "metadata": {},
     "output_type": "execute_result"
    }
   ],
   "source": [
    "#pca결과 dataframe으로 변경\n",
    "data_pca = pd.DataFrame(pca_sample)\n",
    "data_pca"
   ]
  },
  {
   "cell_type": "code",
   "execution_count": 21,
   "id": "188317b0-b144-4dd4-9941-85f592fa54ad",
   "metadata": {
    "tags": []
   },
   "outputs": [
    {
     "data": {
      "text/plain": [
       "<matplotlib.collections.PathCollection at 0x26d70d9e760>"
      ]
     },
     "execution_count": 21,
     "metadata": {},
     "output_type": "execute_result"
    },
    {
     "data": {
      "image/png": "[encoded data removed]",
      "text/plain": [
       "<Figure size 432x288 with 1 Axes>"
      ]
     },
     "metadata": {
      "needs_background": "light"
     },
     "output_type": "display_data"
    }
   ],
   "source": [
    "# x,y 좌표는 pca한 값 사용, 색 구분은 clustering 사용\n",
    "plt.scatter(data_pca[0],data_pca[1],c=data_with_clusters['Clusters'],cmap='rainbow')"
   ]
  },
  {
   "cell_type": "code",
   "execution_count": 22,
   "id": "db0260b7-feb8-45df-9c0f-102e828f36ad",
   "metadata": {
    "tags": []
   },
   "outputs": [
    {
     "data": {
      "text/html": [
       "<div>\n",
       "<style scoped>\n",
       "    .dataframe tbody tr th:only-of-type {\n",
       "        vertical-align: middle;\n",
       "    }\n",
       "\n",
       "    .dataframe tbody tr th {\n",
       "        vertical-align: top;\n",
       "    }\n",
       "\n",
       "    .dataframe thead th {\n",
       "        text-align: right;\n",
       "    }\n",
       "</style>\n",
       "<table border=\"1\" class=\"dataframe\">\n",
       "  <thead>\n",
       "    <tr style=\"text-align: right;\">\n",
       "      <th></th>\n",
       "      <th>dog</th>\n",
       "      <th>parking_lot</th>\n",
       "      <th>park_width_per_person</th>\n",
       "      <th>Clusters</th>\n",
       "    </tr>\n",
       "  </thead>\n",
       "  <tbody>\n",
       "    <tr>\n",
       "      <th>0</th>\n",
       "      <td>27180</td>\n",
       "      <td>61</td>\n",
       "      <td>3.81</td>\n",
       "      <td>3</td>\n",
       "    </tr>\n",
       "    <tr>\n",
       "      <th>1</th>\n",
       "      <td>20295</td>\n",
       "      <td>23</td>\n",
       "      <td>2.80</td>\n",
       "      <td>1</td>\n",
       "    </tr>\n",
       "    <tr>\n",
       "      <th>2</th>\n",
       "      <td>15346</td>\n",
       "      <td>36</td>\n",
       "      <td>5.93</td>\n",
       "      <td>1</td>\n",
       "    </tr>\n",
       "    <tr>\n",
       "      <th>3</th>\n",
       "      <td>26362</td>\n",
       "      <td>45</td>\n",
       "      <td>3.82</td>\n",
       "      <td>3</td>\n",
       "    </tr>\n",
       "    <tr>\n",
       "      <th>4</th>\n",
       "      <td>21199</td>\n",
       "      <td>20</td>\n",
       "      <td>3.59</td>\n",
       "      <td>1</td>\n",
       "    </tr>\n",
       "  </tbody>\n",
       "</table>\n",
       "</div>"
      ],
      "text/plain": [
       "     dog  parking_lot  park_width_per_person  Clusters\n",
       "0  27180           61                   3.81         3\n",
       "1  20295           23                   2.80         1\n",
       "2  15346           36                   5.93         1\n",
       "3  26362           45                   3.82         3\n",
       "4  21199           20                   3.59         1"
      ]
     },
     "execution_count": 22,
     "metadata": {},
     "output_type": "execute_result"
    }
   ],
   "source": [
    "data_iloc = data_with_clusters.iloc[:,1:5]\n",
    "data_iloc.head()"
   ]
  },
  {
   "cell_type": "code",
   "execution_count": 23,
   "id": "cd15c9f7-f5bd-498c-a63c-6da41279944a",
   "metadata": {},
   "outputs": [],
   "source": [
    "import platform\n",
    "from matplotlib import font_manager, rc\n",
    "if platform.system() == 'Windows':\n",
    "# 윈도우인 경우\n",
    "    font_name = font_manager.FontProperties(fname=\"c:/Windows/Fonts/malgun.ttf\").get_name()\n",
    "    rc('font', family=font_name)"
   ]
  },
  {
   "cell_type": "code",
   "execution_count": 24,
   "id": "9d65111b-5cc8-4772-8f0a-f69fe88d3e56",
   "metadata": {
    "tags": []
   },
   "outputs": [
    {
     "data": {
      "image/png": "[encoded data removed]",
      "text/plain": [
       "<Figure size 584x540 with 12 Axes>"
      ]
     },
     "metadata": {
      "needs_background": "light"
     },
     "output_type": "display_data"
    }
   ],
   "source": [
    "#pairplot with Seaborn\n",
    "sns.pairplot(data_iloc,hue='Clusters',palette='bright')\n",
    "plt.show()"
   ]
  },
  {
   "cell_type": "code",
   "execution_count": null,
   "id": "7ef4cf32-d06d-4e8f-a0b0-fbf669c09fa5",
   "metadata": {},
   "outputs": [],
   "source": []
  }
 ],
 "metadata": {
  "kernelspec": {
   "display_name": "Python 3",
   "language": "python",
   "name": "python3"
  },
  "language_info": {
   "codemirror_mode": {
    "name": "ipython",
    "version": 3
   },
   "file_extension": ".py",
   "mimetype": "text/x-python",
   "name": "python",
   "nbconvert_exporter": "python",
   "pygments_lexer": "ipython3",
   "version": "3.8.8"
  }
 },
 "nbformat": 4,
 "nbformat_minor": 5
}
