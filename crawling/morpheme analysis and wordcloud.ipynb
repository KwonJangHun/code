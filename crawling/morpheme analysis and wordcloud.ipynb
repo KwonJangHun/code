{
 "cells": [
  {
   "cell_type": "code",
   "execution_count": 2,
   "id": "4ca0efc0",
   "metadata": {},
   "outputs": [],
   "source": [
    "import konlpy"
   ]
  },
  {
   "cell_type": "code",
   "execution_count": 3,
   "id": "6fd86076",
   "metadata": {
    "scrolled": true
   },
   "outputs": [],
   "source": [
    "\n",
    "from konlpy.tag import Okt"
   ]
  },
  {
   "cell_type": "code",
   "execution_count": 4,
   "id": "ca3ed18d",
   "metadata": {},
   "outputs": [],
   "source": []
  },
  {
   "cell_type": "code",
   "execution_count": 5,
   "id": "f9095ab7",
   "metadata": {},
   "outputs": [],
   "source": []
  },
  {
   "cell_type": "code",
   "execution_count": 7,
   "id": "99e76389",
   "metadata": {
    "scrolled": true
   },
   "outputs": [],
   "source": [
    "okt = Okt()"
   ]
  },
  {
   "cell_type": "code",
   "execution_count": 8,
   "id": "fc2a204b",
   "metadata": {},
   "outputs": [
    {
     "name": "stdout",
     "output_type": "stream",
     "text": [
      "Requirement already satisfied: xlrd in c:\\users\\user\\anaconda3\\lib\\site-packages (2.0.1)\n",
      "Note: you may need to restart the kernel to use updated packages.\n"
     ]
    }
   ],
   "source": [
    "pip install xlrd"
   ]
  },
  {
   "cell_type": "code",
   "execution_count": 9,
   "id": "ff522651",
   "metadata": {},
   "outputs": [
    {
     "name": "stdout",
     "output_type": "stream",
     "text": [
      "Requirement already satisfied: pandas in c:\\users\\user\\anaconda3\\lib\\site-packages (1.2.4)\n",
      "Requirement already satisfied: python-dateutil>=2.7.3 in c:\\users\\user\\anaconda3\\lib\\site-packages (from pandas) (2.8.1)\n",
      "Requirement already satisfied: numpy>=1.16.5 in c:\\users\\user\\anaconda3\\lib\\site-packages (from pandas) (1.20.1)\n",
      "Requirement already satisfied: pytz>=2017.3 in c:\\users\\user\\anaconda3\\lib\\site-packages (from pandas) (2021.1)\n",
      "Requirement already satisfied: six>=1.5 in c:\\users\\user\\anaconda3\\lib\\site-packages (from python-dateutil>=2.7.3->pandas) (1.15.0)\n",
      "Note: you may need to restart the kernel to use updated packages.\n"
     ]
    }
   ],
   "source": [
    "pip install pandas"
   ]
  },
  {
   "cell_type": "code",
   "execution_count": 23,
   "id": "1618eac1",
   "metadata": {},
   "outputs": [],
   "source": [
    "import pandas as pd\n",
    "from collections import Counter"
   ]
  },
  {
   "cell_type": "code",
   "execution_count": 34,
   "id": "65875ec9",
   "metadata": {},
   "outputs": [],
   "source": [
    "file1 = pd.read_excel('C://Users//user//Documents//프로젝트_크롤링//c1.xlsx')"
   ]
  },
  {
   "cell_type": "code",
   "execution_count": 35,
   "id": "9ae5c6b4",
   "metadata": {
    "scrolled": true
   },
   "outputs": [
    {
     "data": {
      "text/html": [
       "<div>\n",
       "<style scoped>\n",
       "    .dataframe tbody tr th:only-of-type {\n",
       "        vertical-align: middle;\n",
       "    }\n",
       "\n",
       "    .dataframe tbody tr th {\n",
       "        vertical-align: top;\n",
       "    }\n",
       "\n",
       "    .dataframe thead th {\n",
       "        text-align: right;\n",
       "    }\n",
       "</style>\n",
       "<table border=\"1\" class=\"dataframe\">\n",
       "  <thead>\n",
       "    <tr style=\"text-align: right;\">\n",
       "      <th></th>\n",
       "      <th>Unnamed: 0</th>\n",
       "      <th>아이디</th>\n",
       "      <th>댓글 내용</th>\n",
       "    </tr>\n",
       "  </thead>\n",
       "  <tbody>\n",
       "    <tr>\n",
       "      <th>0</th>\n",
       "      <td>0</td>\n",
       "      <td>레오</td>\n",
       "      <td>소음, 배설물 문제 해결 안되고서는주민들 반발 많을 수 밖에 없을듯사전에, 실내시설...</td>\n",
       "    </tr>\n",
       "    <tr>\n",
       "      <th>1</th>\n",
       "      <td>1</td>\n",
       "      <td>씨빠빠</td>\n",
       "      <td>1:09 똑같은 돈 내서 그렇죠.. 더 많이 돈내셔야 할 거 같은데</td>\n",
       "    </tr>\n",
       "    <tr>\n",
       "      <th>2</th>\n",
       "      <td>2</td>\n",
       "      <td>기레기는살처분이 답이다.</td>\n",
       "      <td>공무원들이 왜 저걸 밀어붙일려고 하지?</td>\n",
       "    </tr>\n",
       "    <tr>\n",
       "      <th>3</th>\n",
       "      <td>3</td>\n",
       "      <td>KPOP 잡더쿠</td>\n",
       "      <td>저 주민들 나이 부터 의심 감</td>\n",
       "    </tr>\n",
       "    <tr>\n",
       "      <th>4</th>\n",
       "      <td>4</td>\n",
       "      <td>이현철</td>\n",
       "      <td>맞아 자기들 위한 반려견 이지왜 세금을 거기다 써</td>\n",
       "    </tr>\n",
       "  </tbody>\n",
       "</table>\n",
       "</div>"
      ],
      "text/plain": [
       "   Unnamed: 0              아이디  \\\n",
       "0           0               레오   \n",
       "1           1              씨빠빠   \n",
       "2           2    기레기는살처분이 답이다.   \n",
       "3           3         KPOP 잡더쿠   \n",
       "4           4              이현철   \n",
       "\n",
       "                                               댓글 내용  \n",
       "0  소음, 배설물 문제 해결 안되고서는주민들 반발 많을 수 밖에 없을듯사전에, 실내시설...  \n",
       "1              1:09 똑같은 돈 내서 그렇죠.. 더 많이 돈내셔야 할 거 같은데  \n",
       "2                              공무원들이 왜 저걸 밀어붙일려고 하지?  \n",
       "3                                   저 주민들 나이 부터 의심 감  \n",
       "4                        맞아 자기들 위한 반려견 이지왜 세금을 거기다 써  "
      ]
     },
     "execution_count": 35,
     "metadata": {},
     "output_type": "execute_result"
    }
   ],
   "source": [
    "file1.head()"
   ]
  },
  {
   "cell_type": "code",
   "execution_count": 36,
   "id": "803fd8d0",
   "metadata": {},
   "outputs": [
    {
     "data": {
      "text/plain": [
       "24"
      ]
     },
     "execution_count": 36,
     "metadata": {},
     "output_type": "execute_result"
    }
   ],
   "source": [
    "file1.shape[0]"
   ]
  },
  {
   "cell_type": "code",
   "execution_count": 37,
   "id": "032d2fe9",
   "metadata": {},
   "outputs": [],
   "source": [
    "count =Counter()\n",
    "for i in range(0, file1.shape[0] -1):\n",
    "    comment = file1[\"댓글 내용\"][i]\n",
    "    noun = okt.nouns(comment)\n",
    "    count += Counter(noun)"
   ]
  },
  {
   "cell_type": "code",
   "execution_count": 38,
   "id": "8966e881",
   "metadata": {},
   "outputs": [],
   "source": [
    "noun_list = count.most_common()\n"
   ]
  },
  {
   "cell_type": "code",
   "execution_count": 33,
   "id": "86c51e83",
   "metadata": {},
   "outputs": [
    {
     "data": {
      "text/plain": [
       "[('아파트', 9),\n",
       " ('주민', 6),\n",
       " ('개', 6),\n",
       " ('왜', 5),\n",
       " ('더', 4),\n",
       " ('반려견', 4),\n",
       " ('놀이터', 4),\n",
       " ('곳', 4),\n",
       " ('시설', 3),\n",
       " ('돈', 3),\n",
       " ('거', 3),\n",
       " ('것', 3),\n",
       " ('앞', 3),\n",
       " ('건물', 3),\n",
       " ('소리', 3),\n",
       " ('단지', 3),\n",
       " ('소음', 2),\n",
       " ('실내', 2),\n",
       " ('저걸', 2),\n",
       " ('저', 2),\n",
       " ('감', 2),\n",
       " ('자기', 2),\n",
       " ('위', 2),\n",
       " ('설치', 2),\n",
       " ('옆', 2),\n",
       " ('사람', 2),\n",
       " ('생각', 2),\n",
       " ('그냥', 2),\n",
       " ('인간', 2),\n",
       " ('동물', 2),\n",
       " ('집', 2),\n",
       " ('강아지', 2),\n",
       " ('세상', 2),\n",
       " ('상가', 2),\n",
       " ('오히려', 2),\n",
       " ('님비', 2),\n",
       " ('이건', 2),\n",
       " ('배설물', 1),\n",
       " ('문제', 1),\n",
       " ('해결', 1),\n",
       " ('반발', 1),\n",
       " ('수', 1),\n",
       " ('사전', 1),\n",
       " ('공무원', 1),\n",
       " ('나이', 1),\n",
       " ('부터', 1),\n",
       " ('의심', 1),\n",
       " ('세금', 1),\n",
       " ('거기', 1),\n",
       " ('구청', 1),\n",
       " ('남', 1),\n",
       " ('원', 1),\n",
       " ('이해', 1),\n",
       " ('매우', 1),\n",
       " ('개인', 1),\n",
       " ('거주', 1),\n",
       " ('입', 1),\n",
       " ('마개', 1),\n",
       " ('필수', 1),\n",
       " ('함', 1),\n",
       " ('차', 1),\n",
       " ('짐승', 1),\n",
       " ('이하', 1),\n",
       " ('혐', 1),\n",
       " ('듯', 1),\n",
       " ('놀이', 1),\n",
       " ('가까이', 1),\n",
       " ('만하', 1),\n",
       " ('동의', 1),\n",
       " ('분', 1),\n",
       " ('바로', 1),\n",
       " ('방음벽', 1),\n",
       " ('클럽', 1),\n",
       " ('말', 1),\n",
       " ('고양이', 1),\n",
       " ('냄새', 1),\n",
       " ('나', 1),\n",
       " ('반대', 1),\n",
       " ('구석', 1),\n",
       " ('낫다', 1),\n",
       " ('대적', 1),\n",
       " ('정해진', 1),\n",
       " ('산책', 1),\n",
       " ('스트레스', 1),\n",
       " ('풀', 1),\n",
       " ('심보', 1),\n",
       " ('유치원', 1),\n",
       " ('더욱', 1),\n",
       " ('무조건', 1),\n",
       " ('찬성', 1),\n",
       " ('산속', 1),\n",
       " ('대부분', 1),\n",
       " ('성격', 1),\n",
       " ('안드로메다', 1),\n",
       " ('풀세팅', 1),\n",
       " ('마인드', 1),\n",
       " ('일단', 1),\n",
       " ('중립', 1),\n",
       " ('대화', 1),\n",
       " ('친구', 1),\n",
       " ('별루', 1),\n",
       " ('개도', 1),\n",
       " ('김정은', 1),\n",
       " ('핵폭탄', 1),\n",
       " ('무너', 1),\n",
       " ('림', 1),\n",
       " ('취지', 1),\n",
       " ('판', 1),\n",
       " ('환경', 1),\n",
       " ('집값', 1),\n",
       " ('명', 1),\n",
       " ('알', 1),\n",
       " ('똥', 1),\n",
       " ('낫', 1),\n",
       " ('꼭', 1),\n",
       " ('이진', 1),\n",
       " ('유세', 1),\n",
       " ('또', 1),\n",
       " ('니', 1),\n",
       " ('집앞', 1)]"
      ]
     },
     "execution_count": 33,
     "metadata": {},
     "output_type": "execute_result"
    }
   ],
   "source": [
    "noun_list"
   ]
  },
  {
   "cell_type": "code",
   "execution_count": 40,
   "id": "1dae529c",
   "metadata": {},
   "outputs": [],
   "source": [
    "file2 = pd.read_excel('C://Users//user//Documents//프로젝트_크롤링//c2.xlsx')"
   ]
  },
  {
   "cell_type": "code",
   "execution_count": 42,
   "id": "a183f215",
   "metadata": {},
   "outputs": [
    {
     "data": {
      "text/plain": [
       "1108"
      ]
     },
     "execution_count": 42,
     "metadata": {},
     "output_type": "execute_result"
    }
   ],
   "source": [
    "file2.head()\n",
    "file2.shape[0]"
   ]
  },
  {
   "cell_type": "code",
   "execution_count": 43,
   "id": "0973014f",
   "metadata": {},
   "outputs": [],
   "source": [
    "for j in range(0, file2.shape[0] -1):\n",
    "    comment = file2[\"댓글 내용\"][j]\n",
    "    noun = okt.nouns(comment)\n",
    "    count += Counter(noun)"
   ]
  },
  {
   "cell_type": "code",
   "execution_count": 44,
   "id": "179ac2d9",
   "metadata": {},
   "outputs": [
    {
     "data": {
      "text/plain": [
       "[('개', 511),\n",
       " ('사람', 334),\n",
       " ('놀이터', 196),\n",
       " ('아파트', 141),\n",
       " ('소리', 137),\n",
       " ('세금', 130),\n",
       " ('생각', 128),\n",
       " ('반려견', 117),\n",
       " ('주민', 92),\n",
       " ('왜', 89),\n",
       " ('집', 89),\n",
       " ('강아지', 89),\n",
       " ('앞', 82),\n",
       " ('더', 79),\n",
       " ('좀', 78),\n",
       " ('소음', 75),\n",
       " ('안', 72),\n",
       " ('문제', 70),\n",
       " ('거', 70),\n",
       " ('구청', 70),\n",
       " ('진짜', 67),\n",
       " ('공원', 66),\n",
       " ('곳', 65),\n",
       " ('반대', 65),\n",
       " ('공무원', 62),\n",
       " ('저', 61),\n",
       " ('운영', 57),\n",
       " ('것', 53),\n",
       " ('애', 53),\n",
       " ('집앞', 51),\n",
       " ('돈', 50),\n",
       " ('말', 50),\n",
       " ('시범', 50),\n",
       " ('냄새', 49),\n",
       " ('애견', 49),\n",
       " ('그냥', 48),\n",
       " ('인간', 46),\n",
       " ('그', 44),\n",
       " ('똥', 43),\n",
       " ('우리', 43),\n",
       " ('반려동물', 43),\n",
       " ('동물', 42),\n",
       " ('피해', 41),\n",
       " ('설치', 38),\n",
       " ('내', 38),\n",
       " ('시설', 35),\n",
       " ('해', 35),\n",
       " ('먼저', 35),\n",
       " ('때', 34),\n",
       " ('나', 33),\n",
       " ('차', 32),\n",
       " ('개판', 32),\n",
       " ('나라', 31),\n",
       " ('단지', 30),\n",
       " ('자기', 28),\n",
       " ('동네', 28),\n",
       " ('이해', 27),\n",
       " ('마리', 27),\n",
       " ('뭐', 27),\n",
       " ('때문', 27),\n",
       " ('위', 26),\n",
       " ('함', 26),\n",
       " ('바로', 26),\n",
       " ('산책', 26),\n",
       " ('하나', 26),\n",
       " ('정말', 25),\n",
       " ('위치', 25),\n",
       " ('걸', 25),\n",
       " ('분', 24),\n",
       " ('무슨', 24),\n",
       " ('주변', 24),\n",
       " ('임', 24),\n",
       " ('근처', 24),\n",
       " ('누가', 24),\n",
       " ('위해', 24),\n",
       " ('이건', 23),\n",
       " ('얼마나', 23),\n",
       " ('저기', 23),\n",
       " ('책임', 23),\n",
       " ('스트레스', 22),\n",
       " ('관리', 22),\n",
       " ('고양이', 21),\n",
       " ('안나', 21),\n",
       " ('이', 21),\n",
       " ('어디', 20),\n",
       " ('일', 20),\n",
       " ('땅', 20),\n",
       " ('남', 19),\n",
       " ('니', 19),\n",
       " ('피', 19),\n",
       " ('선정', 19),\n",
       " ('주택', 19),\n",
       " ('주인', 19),\n",
       " ('거기', 18),\n",
       " ('옆', 18),\n",
       " ('저건', 18),\n",
       " ('도로', 18),\n",
       " ('정도', 18),\n",
       " ('기적', 18),\n",
       " ('또', 17)]"
      ]
     },
     "execution_count": 44,
     "metadata": {},
     "output_type": "execute_result"
    }
   ],
   "source": [
    "noun_list = count.most_common(100)\n",
    "noun_list"
   ]
  },
  {
   "cell_type": "code",
   "execution_count": 45,
   "id": "1c4c8fb3",
   "metadata": {},
   "outputs": [],
   "source": [
    "file3 = pd.read_excel('C://Users//user//Documents//프로젝트_크롤링//c3.xlsx')"
   ]
  },
  {
   "cell_type": "code",
   "execution_count": 46,
   "id": "0b009dc6",
   "metadata": {},
   "outputs": [
    {
     "data": {
      "text/html": [
       "<div>\n",
       "<style scoped>\n",
       "    .dataframe tbody tr th:only-of-type {\n",
       "        vertical-align: middle;\n",
       "    }\n",
       "\n",
       "    .dataframe tbody tr th {\n",
       "        vertical-align: top;\n",
       "    }\n",
       "\n",
       "    .dataframe thead th {\n",
       "        text-align: right;\n",
       "    }\n",
       "</style>\n",
       "<table border=\"1\" class=\"dataframe\">\n",
       "  <thead>\n",
       "    <tr style=\"text-align: right;\">\n",
       "      <th></th>\n",
       "      <th>Unnamed: 0</th>\n",
       "      <th>아이디</th>\n",
       "      <th>댓글 내용</th>\n",
       "    </tr>\n",
       "  </thead>\n",
       "  <tbody>\n",
       "    <tr>\n",
       "      <th>0</th>\n",
       "      <td>0</td>\n",
       "      <td>max Dj</td>\n",
       "      <td>ㅋㅋ 조만간 세금징수하겠네.. ㅋㅋ 큰데 반려견은 세금 징수해야 하긴함.. 그래야 ...</td>\n",
       "    </tr>\n",
       "    <tr>\n",
       "      <th>1</th>\n",
       "      <td>1</td>\n",
       "      <td>질럿77</td>\n",
       "      <td>반려견들이 재미있게 놀수 있어존네요  친구들  한테도 알려주고싶어요 잘보고갑니다</td>\n",
       "    </tr>\n",
       "    <tr>\n",
       "      <th>2</th>\n",
       "      <td>2</td>\n",
       "      <td>Edward Jeon</td>\n",
       "      <td>1500만이라..힘들다 힘들다 하지만 다들 살만한갑네.개 키우는게 쉬운 일이 아닐텐데.</td>\n",
       "    </tr>\n",
       "    <tr>\n",
       "      <th>3</th>\n",
       "      <td>3</td>\n",
       "      <td>Big Tree</td>\n",
       "      <td>공무원들의 근본에 접근하지 않고 현장을 등한시 하며 그때그때 순간을 모면하기 위한 ...</td>\n",
       "    </tr>\n",
       "    <tr>\n",
       "      <th>4</th>\n",
       "      <td>4</td>\n",
       "      <td>잠원동주짓떼로</td>\n",
       "      <td>반려견 놀이타 환영</td>\n",
       "    </tr>\n",
       "  </tbody>\n",
       "</table>\n",
       "</div>"
      ],
      "text/plain": [
       "   Unnamed: 0            아이디  \\\n",
       "0           0         max Dj   \n",
       "1           1           질럿77   \n",
       "2           2    Edward Jeon   \n",
       "3           3       Big Tree   \n",
       "4           4        잠원동주짓떼로   \n",
       "\n",
       "                                               댓글 내용  \n",
       "0  ㅋㅋ 조만간 세금징수하겠네.. ㅋㅋ 큰데 반려견은 세금 징수해야 하긴함.. 그래야 ...  \n",
       "1       반려견들이 재미있게 놀수 있어존네요  친구들  한테도 알려주고싶어요 잘보고갑니다  \n",
       "2   1500만이라..힘들다 힘들다 하지만 다들 살만한갑네.개 키우는게 쉬운 일이 아닐텐데.  \n",
       "3  공무원들의 근본에 접근하지 않고 현장을 등한시 하며 그때그때 순간을 모면하기 위한 ...  \n",
       "4                                         반려견 놀이타 환영  "
      ]
     },
     "execution_count": 46,
     "metadata": {},
     "output_type": "execute_result"
    }
   ],
   "source": [
    "file3.head()"
   ]
  },
  {
   "cell_type": "code",
   "execution_count": 47,
   "id": "6b22736e",
   "metadata": {},
   "outputs": [
    {
     "data": {
      "text/plain": [
       "99"
      ]
     },
     "execution_count": 47,
     "metadata": {},
     "output_type": "execute_result"
    }
   ],
   "source": [
    "file3.shape[0]"
   ]
  },
  {
   "cell_type": "code",
   "execution_count": 48,
   "id": "cdbcfe8e",
   "metadata": {},
   "outputs": [],
   "source": [
    "for k in range(0, file3.shape[0] -1):\n",
    "    comment = file3[\"댓글 내용\"][k]\n",
    "    noun = okt.nouns(comment)\n",
    "    count += Counter(noun)"
   ]
  },
  {
   "cell_type": "code",
   "execution_count": 49,
   "id": "f0b3725c",
   "metadata": {},
   "outputs": [
    {
     "data": {
      "text/plain": [
       "[('개', 567),\n",
       " ('사람', 362),\n",
       " ('놀이터', 220),\n",
       " ('세금', 169),\n",
       " ('아파트', 148),\n",
       " ('생각', 143),\n",
       " ('소리', 141),\n",
       " ('반려견', 135),\n",
       " ('왜', 102),\n",
       " ('강아지', 98),\n",
       " ('집', 96),\n",
       " ('주민', 95),\n",
       " ('더', 86),\n",
       " ('앞', 86),\n",
       " ('좀', 85),\n",
       " ('소음', 75),\n",
       " ('거', 75),\n",
       " ('안', 75),\n",
       " ('문제', 71),\n",
       " ('곳', 71),\n",
       " ('공원', 71),\n",
       " ('구청', 70),\n",
       " ('진짜', 69),\n",
       " ('것', 68),\n",
       " ('공무원', 67),\n",
       " ('반대', 67),\n",
       " ('저', 64),\n",
       " ('운영', 58),\n",
       " ('돈', 56),\n",
       " ('말', 54),\n",
       " ('애', 54),\n",
       " ('그냥', 52),\n",
       " ('동물', 52),\n",
       " ('인간', 51),\n",
       " ('냄새', 51),\n",
       " ('집앞', 51),\n",
       " ('그', 51),\n",
       " ('시범', 50),\n",
       " ('애견', 50),\n",
       " ('반려동물', 48),\n",
       " ('똥', 47),\n",
       " ('우리', 46),\n",
       " ('피해', 43),\n",
       " ('때', 40),\n",
       " ('내', 39),\n",
       " ('설치', 38),\n",
       " ('나라', 38),\n",
       " ('먼저', 37),\n",
       " ('시설', 35),\n",
       " ('해', 35),\n",
       " ('나', 34),\n",
       " ('개판', 34),\n",
       " ('이해', 33),\n",
       " ('차', 33),\n",
       " ('뭐', 32),\n",
       " ('단지', 30),\n",
       " ('산책', 30),\n",
       " ('동네', 30),\n",
       " ('때문', 30),\n",
       " ('바로', 29),\n",
       " ('자기', 28),\n",
       " ('위', 28),\n",
       " ('함', 28),\n",
       " ('마리', 28),\n",
       " ('하나', 28),\n",
       " ('임', 27),\n",
       " ('걸', 27),\n",
       " ('분', 26),\n",
       " ('정말', 26),\n",
       " ('책임', 26),\n",
       " ('누가', 26),\n",
       " ('고양이', 25),\n",
       " ('스트레스', 25),\n",
       " ('얼마나', 25),\n",
       " ('위치', 25),\n",
       " ('주변', 25),\n",
       " ('위해', 25),\n",
       " ('무슨', 24),\n",
       " ('땅', 24),\n",
       " ('저기', 24),\n",
       " ('근처', 24),\n",
       " ('이', 24),\n",
       " ('남', 23),\n",
       " ('이건', 23),\n",
       " ('니', 23),\n",
       " ('관리', 23),\n",
       " ('주인', 23),\n",
       " ('살', 23),\n",
       " ('반려', 23),\n",
       " ('일', 22),\n",
       " ('안나', 21),\n",
       " ('어디', 20),\n",
       " ('수준', 20),\n",
       " ('오줌', 20),\n",
       " ('거기', 19),\n",
       " ('옆', 19),\n",
       " ('피', 19),\n",
       " ('다른', 19),\n",
       " ('입장', 19),\n",
       " ('선정', 19)]"
      ]
     },
     "execution_count": 49,
     "metadata": {},
     "output_type": "execute_result"
    }
   ],
   "source": [
    "noun_list = count.most_common(100)\n",
    "noun_list"
   ]
  },
  {
   "cell_type": "code",
   "execution_count": 50,
   "id": "65b54460",
   "metadata": {},
   "outputs": [],
   "source": [
    "from wordcloud import WordCloud"
   ]
  },
  {
   "cell_type": "code",
   "execution_count": 56,
   "id": "803196a0",
   "metadata": {},
   "outputs": [],
   "source": [
    "wc = WordCloud(font_path = \"C:\\\\users\\\\user\\\\Downloads\\\\Nanumsquare_ac_TTF\\\\NanumSquare_acB.ttf\"       \n",
    "    , background_color = \"white\", width = 1000, height =1000, max_words = 100, max_font_size = 300)"
   ]
  },
  {
   "cell_type": "code",
   "execution_count": 57,
   "id": "5376391e",
   "metadata": {},
   "outputs": [
    {
     "data": {
      "text/plain": [
       "<wordcloud.wordcloud.WordCloud at 0x28b08a96190>"
      ]
     },
     "execution_count": 57,
     "metadata": {},
     "output_type": "execute_result"
    }
   ],
   "source": [
    "wc.generate_from_frequencies(dict(noun_list))\n"
   ]
  },
  {
   "cell_type": "code",
   "execution_count": 59,
   "id": "5bd72ba8",
   "metadata": {},
   "outputs": [
    {
     "data": {
      "text/plain": [
       "<wordcloud.wordcloud.WordCloud at 0x28b08a96190>"
      ]
     },
     "execution_count": 59,
     "metadata": {},
     "output_type": "execute_result"
    }
   ],
   "source": [
    "wc.to_file('wordcloud_news.png')"
   ]
  },
  {
   "cell_type": "code",
   "execution_count": 61,
   "id": "f9cc3c21",
   "metadata": {},
   "outputs": [
    {
     "data": {
      "text/plain": [
       "[('개', 567),\n",
       " ('사람', 362),\n",
       " ('놀이터', 220),\n",
       " ('세금', 169),\n",
       " ('아파트', 148),\n",
       " ('생각', 143),\n",
       " ('소리', 141),\n",
       " ('반려견', 135),\n",
       " ('왜', 102),\n",
       " ('강아지', 98),\n",
       " ('집', 96),\n",
       " ('주민', 95),\n",
       " ('더', 86),\n",
       " ('앞', 86),\n",
       " ('좀', 85),\n",
       " ('소음', 75),\n",
       " ('거', 75),\n",
       " ('안', 75),\n",
       " ('문제', 71),\n",
       " ('곳', 71),\n",
       " ('공원', 71),\n",
       " ('구청', 70),\n",
       " ('진짜', 69),\n",
       " ('것', 68),\n",
       " ('공무원', 67),\n",
       " ('반대', 67),\n",
       " ('저', 64),\n",
       " ('운영', 58),\n",
       " ('돈', 56),\n",
       " ('말', 54),\n",
       " ('애', 54),\n",
       " ('그냥', 52),\n",
       " ('동물', 52),\n",
       " ('인간', 51),\n",
       " ('냄새', 51),\n",
       " ('집앞', 51),\n",
       " ('그', 51),\n",
       " ('시범', 50),\n",
       " ('애견', 50),\n",
       " ('반려동물', 48),\n",
       " ('똥', 47),\n",
       " ('우리', 46),\n",
       " ('피해', 43),\n",
       " ('때', 40),\n",
       " ('내', 39),\n",
       " ('설치', 38),\n",
       " ('나라', 38),\n",
       " ('먼저', 37),\n",
       " ('시설', 35),\n",
       " ('해', 35),\n",
       " ('나', 34),\n",
       " ('개판', 34),\n",
       " ('이해', 33),\n",
       " ('차', 33),\n",
       " ('뭐', 32),\n",
       " ('단지', 30),\n",
       " ('산책', 30),\n",
       " ('동네', 30),\n",
       " ('때문', 30),\n",
       " ('바로', 29),\n",
       " ('자기', 28),\n",
       " ('위', 28),\n",
       " ('함', 28),\n",
       " ('마리', 28),\n",
       " ('하나', 28),\n",
       " ('임', 27),\n",
       " ('걸', 27),\n",
       " ('분', 26),\n",
       " ('정말', 26),\n",
       " ('책임', 26),\n",
       " ('누가', 26),\n",
       " ('고양이', 25),\n",
       " ('스트레스', 25),\n",
       " ('얼마나', 25),\n",
       " ('위치', 25),\n",
       " ('주변', 25),\n",
       " ('위해', 25),\n",
       " ('무슨', 24),\n",
       " ('땅', 24),\n",
       " ('저기', 24),\n",
       " ('근처', 24),\n",
       " ('이', 24),\n",
       " ('남', 23),\n",
       " ('이건', 23),\n",
       " ('니', 23),\n",
       " ('관리', 23),\n",
       " ('주인', 23),\n",
       " ('살', 23),\n",
       " ('반려', 23),\n",
       " ('일', 22),\n",
       " ('안나', 21),\n",
       " ('어디', 20),\n",
       " ('수준', 20),\n",
       " ('오줌', 20),\n",
       " ('거기', 19),\n",
       " ('옆', 19),\n",
       " ('피', 19),\n",
       " ('다른', 19),\n",
       " ('입장', 19),\n",
       " ('선정', 19)]"
      ]
     },
     "execution_count": 61,
     "metadata": {},
     "output_type": "execute_result"
    }
   ],
   "source": [
    "noun_list = count.most_common(100)\n",
    "noun_list"
   ]
  },
  {
   "cell_type": "code",
   "execution_count": null,
   "id": "2fbdab9b",
   "metadata": {},
   "outputs": [],
   "source": []
  }
 ],
 "metadata": {
  "kernelspec": {
   "display_name": "Python 3",
   "language": "python",
   "name": "python3"
  },
  "language_info": {
   "codemirror_mode": {
    "name": "ipython",
    "version": 3
   },
   "file_extension": ".py",
   "mimetype": "text/x-python",
   "name": "python",
   "nbconvert_exporter": "python",
   "pygments_lexer": "ipython3",
   "version": "3.8.8"
  }
 },
 "nbformat": 4,
 "nbformat_minor": 5
}
